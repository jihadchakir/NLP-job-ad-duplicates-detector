{
 "cells": [
  {
   "cell_type": "code",
   "execution_count": 1,
   "id": "5284132a",
   "metadata": {},
   "outputs": [],
   "source": [
    "import pandas as pd\n",
    "import numpy as np"
   ]
  },
  {
   "cell_type": "code",
   "execution_count": 2,
   "id": "f5e00f71",
   "metadata": {},
   "outputs": [],
   "source": [
    "cosine = pd.read_csv(\"Cosine_similarity.csv\")\n",
    "doc2vec = pd.read_csv(\"Doc2vec_similarity.csv\")\n",
    "simhash = pd.read_csv(\"Simhash_similarity.csv\")\n",
    "jaccard = pd.read_csv(\"Jaccard_similarity.csv\")"
   ]
  },
  {
   "cell_type": "code",
   "execution_count": 3,
   "id": "a5440142",
   "metadata": {},
   "outputs": [],
   "source": [
    "data = pd.read_csv(\"job_data.csv\")"
   ]
  },
  {
   "cell_type": "code",
   "execution_count": 4,
   "id": "83d1e6d0",
   "metadata": {},
   "outputs": [],
   "source": [
    "comparison = pd.DataFrame()"
   ]
  },
  {
   "cell_type": "code",
   "execution_count": 5,
   "id": "af2d92bf",
   "metadata": {},
   "outputs": [],
   "source": [
    "job_list1 = []\n",
    "job_list2= []\n",
    "for i in range(len(data['Title'])):\n",
    "    for j in range(len(data['Title'])):\n",
    "        job_list1.append(data['Title'][i])\n",
    "        job_list2.append(data['Title'][j])"
   ]
  },
  {
   "cell_type": "code",
   "execution_count": 6,
   "id": "e9333d33",
   "metadata": {},
   "outputs": [],
   "source": [
    "job1_df = pd.DataFrame(job_list1, columns=['Job offer'])\n",
    "job2_df = pd.DataFrame(job_list2, columns=['Job offer to test similarity'])"
   ]
  },
  {
   "cell_type": "code",
   "execution_count": 7,
   "id": "5ac666b7",
   "metadata": {},
   "outputs": [],
   "source": [
    "comparison = pd.concat([job1_df ,job2_df],axis=1)\n"
   ]
  },
  {
   "cell_type": "code",
   "execution_count": 8,
   "id": "f1467b28",
   "metadata": {},
   "outputs": [],
   "source": [
    "comparison[\"Cosine similarity\"] = cosine[\"Similarity value\"]\n",
    "comparison[\"Doc2vec similarity\"] = doc2vec[\"Similarity Value\"]\n",
    "comparison[\"Simhash similarity\"] = simhash[\"Similarity\"]\n",
    "comparison[\"Jaccard similarity\"] = jaccard[\"Score\"]"
   ]
  },
  {
   "cell_type": "code",
   "execution_count": 14,
   "id": "282e8943",
   "metadata": {
    "scrolled": false
   },
   "outputs": [
    {
     "data": {
      "text/html": [
       "<div>\n",
       "<style scoped>\n",
       "    .dataframe tbody tr th:only-of-type {\n",
       "        vertical-align: middle;\n",
       "    }\n",
       "\n",
       "    .dataframe tbody tr th {\n",
       "        vertical-align: top;\n",
       "    }\n",
       "\n",
       "    .dataframe thead th {\n",
       "        text-align: right;\n",
       "    }\n",
       "</style>\n",
       "<table border=\"1\" class=\"dataframe\">\n",
       "  <thead>\n",
       "    <tr style=\"text-align: right;\">\n",
       "      <th></th>\n",
       "      <th>Job offer</th>\n",
       "      <th>Job offer to test similarity</th>\n",
       "      <th>Cosine similarity</th>\n",
       "      <th>Doc2vec similarity</th>\n",
       "      <th>Simhash similarity</th>\n",
       "      <th>Jaccard similarity</th>\n",
       "    </tr>\n",
       "  </thead>\n",
       "  <tbody>\n",
       "    <tr>\n",
       "      <th>0</th>\n",
       "      <td>Développeur Full Stack PHP | Casablanca (Maroc)</td>\n",
       "      <td>Développeur Full Stack PHP | Casablanca (Maroc)</td>\n",
       "      <td>1.000000</td>\n",
       "      <td>1.000000</td>\n",
       "      <td>1.000000</td>\n",
       "      <td>1.000000</td>\n",
       "    </tr>\n",
       "    <tr>\n",
       "      <th>1</th>\n",
       "      <td>Développeur Full Stack PHP | Casablanca (Maroc)</td>\n",
       "      <td>AREA MANAGER | CASABLANCA (Maroc)</td>\n",
       "      <td>0.061762</td>\n",
       "      <td>0.260687</td>\n",
       "      <td>0.125000</td>\n",
       "      <td>0.130990</td>\n",
       "    </tr>\n",
       "    <tr>\n",
       "      <th>2</th>\n",
       "      <td>Développeur Full Stack PHP | Casablanca (Maroc)</td>\n",
       "      <td>STAGIAIRE EN MARKETING | CASABLANCA (Maroc)</td>\n",
       "      <td>0.076642</td>\n",
       "      <td>0.255778</td>\n",
       "      <td>0.078125</td>\n",
       "      <td>0.148026</td>\n",
       "    </tr>\n",
       "    <tr>\n",
       "      <th>3</th>\n",
       "      <td>Développeur Full Stack PHP | Casablanca (Maroc)</td>\n",
       "      <td>Support IT sénior ( +5 ans d'expérience) | Rab...</td>\n",
       "      <td>0.150434</td>\n",
       "      <td>0.434033</td>\n",
       "      <td>0.296875</td>\n",
       "      <td>0.194757</td>\n",
       "    </tr>\n",
       "    <tr>\n",
       "      <th>4</th>\n",
       "      <td>Développeur Full Stack PHP | Casablanca (Maroc)</td>\n",
       "      <td>AGENT LOGISTIQUE | CASABLANCA (Maroc)</td>\n",
       "      <td>0.047593</td>\n",
       "      <td>0.288616</td>\n",
       "      <td>0.156250</td>\n",
       "      <td>0.130597</td>\n",
       "    </tr>\n",
       "    <tr>\n",
       "      <th>5</th>\n",
       "      <td>Développeur Full Stack PHP | Casablanca (Maroc)</td>\n",
       "      <td>Devenez Consultant en rejoignant Leyton ! (Off...</td>\n",
       "      <td>0.123066</td>\n",
       "      <td>0.270625</td>\n",
       "      <td>0.218750</td>\n",
       "      <td>0.145714</td>\n",
       "    </tr>\n",
       "    <tr>\n",
       "      <th>6</th>\n",
       "      <td>Développeur Full Stack PHP | Casablanca (Maroc)</td>\n",
       "      <td>Expert.e en Finance Digital (FinTech) | Rabat ...</td>\n",
       "      <td>0.082364</td>\n",
       "      <td>0.330705</td>\n",
       "      <td>0.078125</td>\n",
       "      <td>0.120172</td>\n",
       "    </tr>\n",
       "    <tr>\n",
       "      <th>7</th>\n",
       "      <td>Développeur Full Stack PHP | Casablanca (Maroc)</td>\n",
       "      <td>Responsable Magasin | Kenitra (Maroc)</td>\n",
       "      <td>0.058541</td>\n",
       "      <td>0.404270</td>\n",
       "      <td>0.156250</td>\n",
       "      <td>0.115385</td>\n",
       "    </tr>\n",
       "    <tr>\n",
       "      <th>8</th>\n",
       "      <td>Développeur Full Stack PHP | Casablanca (Maroc)</td>\n",
       "      <td>Comptable H/F | Casablanca (Maroc)</td>\n",
       "      <td>0.072166</td>\n",
       "      <td>0.284716</td>\n",
       "      <td>0.156250</td>\n",
       "      <td>0.129747</td>\n",
       "    </tr>\n",
       "    <tr>\n",
       "      <th>9</th>\n",
       "      <td>Développeur Full Stack PHP | Casablanca (Maroc)</td>\n",
       "      <td>Développeur Fullstack PHP Laravel (Freelance o...</td>\n",
       "      <td>0.285825</td>\n",
       "      <td>0.450084</td>\n",
       "      <td>0.281250</td>\n",
       "      <td>0.223881</td>\n",
       "    </tr>\n",
       "  </tbody>\n",
       "</table>\n",
       "</div>"
      ],
      "text/plain": [
       "                                         Job offer  \\\n",
       "0  Développeur Full Stack PHP | Casablanca (Maroc)   \n",
       "1  Développeur Full Stack PHP | Casablanca (Maroc)   \n",
       "2  Développeur Full Stack PHP | Casablanca (Maroc)   \n",
       "3  Développeur Full Stack PHP | Casablanca (Maroc)   \n",
       "4  Développeur Full Stack PHP | Casablanca (Maroc)   \n",
       "5  Développeur Full Stack PHP | Casablanca (Maroc)   \n",
       "6  Développeur Full Stack PHP | Casablanca (Maroc)   \n",
       "7  Développeur Full Stack PHP | Casablanca (Maroc)   \n",
       "8  Développeur Full Stack PHP | Casablanca (Maroc)   \n",
       "9  Développeur Full Stack PHP | Casablanca (Maroc)   \n",
       "\n",
       "                        Job offer to test similarity  Cosine similarity  \\\n",
       "0    Développeur Full Stack PHP | Casablanca (Maroc)           1.000000   \n",
       "1                  AREA MANAGER | CASABLANCA (Maroc)           0.061762   \n",
       "2        STAGIAIRE EN MARKETING | CASABLANCA (Maroc)           0.076642   \n",
       "3  Support IT sénior ( +5 ans d'expérience) | Rab...           0.150434   \n",
       "4              AGENT LOGISTIQUE | CASABLANCA (Maroc)           0.047593   \n",
       "5  Devenez Consultant en rejoignant Leyton ! (Off...           0.123066   \n",
       "6  Expert.e en Finance Digital (FinTech) | Rabat ...           0.082364   \n",
       "7              Responsable Magasin | Kenitra (Maroc)           0.058541   \n",
       "8                 Comptable H/F | Casablanca (Maroc)           0.072166   \n",
       "9  Développeur Fullstack PHP Laravel (Freelance o...           0.285825   \n",
       "\n",
       "   Doc2vec similarity  Simhash similarity  Jaccard similarity  \n",
       "0            1.000000            1.000000            1.000000  \n",
       "1            0.260687            0.125000            0.130990  \n",
       "2            0.255778            0.078125            0.148026  \n",
       "3            0.434033            0.296875            0.194757  \n",
       "4            0.288616            0.156250            0.130597  \n",
       "5            0.270625            0.218750            0.145714  \n",
       "6            0.330705            0.078125            0.120172  \n",
       "7            0.404270            0.156250            0.115385  \n",
       "8            0.284716            0.156250            0.129747  \n",
       "9            0.450084            0.281250            0.223881  "
      ]
     },
     "execution_count": 14,
     "metadata": {},
     "output_type": "execute_result"
    }
   ],
   "source": [
    "comparison.head(10)"
   ]
  },
  {
   "cell_type": "code",
   "execution_count": 40,
   "id": "33edf402",
   "metadata": {},
   "outputs": [],
   "source": [
    "comparison.to_csv(\"all_similarity_methods.csv\", mode = 'w', index=False)"
   ]
  },
  {
   "cell_type": "code",
   "execution_count": null,
   "id": "e33bc352",
   "metadata": {},
   "outputs": [],
   "source": []
  }
 ],
 "metadata": {
  "kernelspec": {
   "display_name": "Python 3 (ipykernel)",
   "language": "python",
   "name": "python3"
  },
  "language_info": {
   "codemirror_mode": {
    "name": "ipython",
    "version": 3
   },
   "file_extension": ".py",
   "mimetype": "text/x-python",
   "name": "python",
   "nbconvert_exporter": "python",
   "pygments_lexer": "ipython3",
   "version": "3.9.13"
  }
 },
 "nbformat": 4,
 "nbformat_minor": 5
}
